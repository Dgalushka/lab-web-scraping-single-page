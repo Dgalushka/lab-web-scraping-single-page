{
 "cells": [
  {
   "cell_type": "code",
   "execution_count": 2,
   "id": "503d635f-ce7d-41f5-864c-37999b4b8b3b",
   "metadata": {},
   "outputs": [
    {
     "name": "stdout",
     "output_type": "stream",
     "text": [
      "Requirement already satisfied: bs4 in c:\\users\\dmitr\\anaconda3\\lib\\site-packages (0.0.1)\n",
      "Requirement already satisfied: beautifulsoup4 in c:\\users\\dmitr\\anaconda3\\lib\\site-packages (from bs4) (4.11.1)\n",
      "Requirement already satisfied: soupsieve>1.2 in c:\\users\\dmitr\\anaconda3\\lib\\site-packages (from beautifulsoup4->bs4) (2.3.2.post1)\n"
     ]
    }
   ],
   "source": [
    "!pip install bs4"
   ]
  },
  {
   "cell_type": "code",
   "execution_count": 3,
   "id": "f4bf37a2-bcf5-46cc-bb6c-9415eb87e9a2",
   "metadata": {},
   "outputs": [],
   "source": [
    "from bs4 import BeautifulSoup"
   ]
  },
  {
   "cell_type": "code",
   "execution_count": 4,
   "id": "d19fee79-74fc-4c39-8561-f1d905ebf0b6",
   "metadata": {},
   "outputs": [],
   "source": [
    "import requests"
   ]
  },
  {
   "cell_type": "code",
   "execution_count": 120,
   "id": "0c05c054-b7a5-4d58-9aa8-9efd4f049ad4",
   "metadata": {},
   "outputs": [],
   "source": [
    "import pandas as pd"
   ]
  },
  {
   "cell_type": "code",
   "execution_count": 7,
   "id": "bdf4dcf3-f933-4b86-920e-a11eabc93c75",
   "metadata": {},
   "outputs": [
    {
     "data": {
      "text/plain": [
       "<Response [200]>"
      ]
     },
     "execution_count": 7,
     "metadata": {},
     "output_type": "execute_result"
    }
   ],
   "source": [
    "b = requests.get(\"https://www.billboard.com/charts/hot-100/\")\n",
    "b"
   ]
  },
  {
   "cell_type": "code",
   "execution_count": 8,
   "id": "bead3ca8-f0d9-4ddc-ae86-0676fd99d13d",
   "metadata": {},
   "outputs": [],
   "source": [
    "html = b.content"
   ]
  },
  {
   "cell_type": "code",
   "execution_count": 122,
   "id": "f1efa68f-0380-47b5-8949-9a887cabb53c",
   "metadata": {
    "tags": []
   },
   "outputs": [],
   "source": [
    "soup = BeautifulSoup(html, 'html.parser')\n",
    "# print(soup.prettify())"
   ]
  },
  {
   "cell_type": "code",
   "execution_count": 67,
   "id": "81d42198-9dda-4ccc-927f-41f8cb17be62",
   "metadata": {},
   "outputs": [],
   "source": [
    "artist_top1 = soup.find_all(\"span\", attrs={\"class\":\"c-label a-no-trucate a-font-primary-s lrv-u-font-size-14@mobile-max u-line-height-normal@mobile-max u-letter-spacing-0021 lrv-u-display-block a-truncate-ellipsis-2line u-max-width-330 u-max-width-230@tablet-only u-font-size-20@tablet\"})"
   ]
  },
  {
   "cell_type": "code",
   "execution_count": 123,
   "id": "af9809a0-d136-4999-93b8-2d0894173246",
   "metadata": {},
   "outputs": [
    {
     "data": {
      "text/plain": [
       "[<span class=\"c-label a-no-trucate a-font-primary-s lrv-u-font-size-14@mobile-max u-line-height-normal@mobile-max u-letter-spacing-0021 lrv-u-display-block a-truncate-ellipsis-2line u-max-width-330 u-max-width-230@tablet-only u-font-size-20@tablet\">\n",
       " \t\n",
       " \tOliver Anthony Music\n",
       " </span>]"
      ]
     },
     "execution_count": 123,
     "metadata": {},
     "output_type": "execute_result"
    }
   ],
   "source": [
    "artist_top1 # The first place from the chart was only in the separate class, so i had to add it ceparately first (both artist name and song name)"
   ]
  },
  {
   "cell_type": "code",
   "execution_count": 80,
   "id": "1077e9cb-96f3-4321-9979-265a9ef85078",
   "metadata": {},
   "outputs": [
    {
     "data": {
      "text/plain": [
       "'Oliver Anthony Music'"
      ]
     },
     "execution_count": 80,
     "metadata": {},
     "output_type": "execute_result"
    }
   ],
   "source": [
    "artist_top1[0].get_text(strip = True)"
   ]
  },
  {
   "cell_type": "code",
   "execution_count": 81,
   "id": "ef7a79d6-9a2b-4b31-ac44-8d416868d7fe",
   "metadata": {},
   "outputs": [],
   "source": [
    "artists_top100 = []"
   ]
  },
  {
   "cell_type": "code",
   "execution_count": 82,
   "id": "4f1c0849-411c-486d-aa0d-9ce05f8d8ba8",
   "metadata": {},
   "outputs": [],
   "source": [
    "artists_top100.append(artist_top1[0].get_text(strip = True))"
   ]
  },
  {
   "cell_type": "code",
   "execution_count": 93,
   "id": "ee4f3962-8d1c-48ab-bf6f-0cbb44d4f307",
   "metadata": {},
   "outputs": [],
   "source": [
    "artists_top99 = soup.find_all(\"span\", attrs={\"class\": \"c-label a-no-trucate a-font-primary-s lrv-u-font-size-14@mobile-max u-line-height-normal@mobile-max u-letter-spacing-0021 lrv-u-display-block a-truncate-ellipsis-2line u-max-width-330 u-max-width-230@tablet-only\"})"
   ]
  },
  {
   "cell_type": "code",
   "execution_count": 95,
   "id": "cc234905-01ba-4749-831d-5a2208c04e70",
   "metadata": {},
   "outputs": [],
   "source": [
    "for artist in artists_top99:\n",
    "    artists_top100.append(artist.get_text(strip = True)) # , separator = '' )) "
   ]
  },
  {
   "cell_type": "code",
   "execution_count": 99,
   "id": "fe44f7a7-8542-4cab-a4b8-8d06bd070753",
   "metadata": {},
   "outputs": [
    {
     "name": "stdout",
     "output_type": "stream",
     "text": [
      "total_length: 100\n",
      "top 5 artists: ['Oliver Anthony Music', 'Luke Combs', 'Morgan Wallen', 'Taylor Swift', 'Doja Cat']\n"
     ]
    }
   ],
   "source": [
    "print(\"total_length:\", len(artists_top100))# top 100 is ready\n",
    "print(\"top 5 artists:\",artists_top100[:5])"
   ]
  },
  {
   "cell_type": "code",
   "execution_count": 110,
   "id": "4342fdd6-632e-4120-a87e-8490bd2008c8",
   "metadata": {},
   "outputs": [],
   "source": [
    "songs_top100 = []"
   ]
  },
  {
   "cell_type": "code",
   "execution_count": 106,
   "id": "9d63414f-1447-4ae8-b8e0-776a874bd05d",
   "metadata": {},
   "outputs": [],
   "source": [
    "song_top1 = soup.find_all(\"h3\", attrs ={\"class\": \"c-title a-no-trucate a-font-primary-bold-s u-letter-spacing-0021 u-font-size-23@tablet lrv-u-font-size-16 u-line-height-125 u-line-height-normal@mobile-max a-truncate-ellipsis u-max-width-245 u-max-width-230@tablet-only u-letter-spacing-0028@tablet\"})"
   ]
  },
  {
   "cell_type": "code",
   "execution_count": 101,
   "id": "4c3ae8a6-64ff-44b4-940a-98561cd373ff",
   "metadata": {},
   "outputs": [
    {
     "data": {
      "text/plain": [
       "[<h3 class=\"c-title a-no-trucate a-font-primary-bold-s u-letter-spacing-0021 u-font-size-23@tablet lrv-u-font-size-16 u-line-height-125 u-line-height-normal@mobile-max a-truncate-ellipsis u-max-width-245 u-max-width-230@tablet-only u-letter-spacing-0028@tablet\" id=\"title-of-a-story\">\n",
       " \n",
       " \t\n",
       " \t\n",
       " \t\t\n",
       " \t\t\t\t\tRich Men North Of Richmond\t\t\n",
       " \t\n",
       " </h3>]"
      ]
     },
     "execution_count": 101,
     "metadata": {},
     "output_type": "execute_result"
    }
   ],
   "source": [
    "song_top1"
   ]
  },
  {
   "cell_type": "code",
   "execution_count": 112,
   "id": "84264e9b-d7e2-4f90-996a-04be5ec8e0ea",
   "metadata": {},
   "outputs": [],
   "source": [
    "songs_top100.append(song_top1[0].get_text(strip = True))"
   ]
  },
  {
   "cell_type": "code",
   "execution_count": 104,
   "id": "c6c7956d-5adf-4400-8fec-1092a335964b",
   "metadata": {},
   "outputs": [],
   "source": [
    "songs_top99 = soup.find_all(\"h3\", attrs ={\"class\":\"c-title a-no-trucate a-font-primary-bold-s u-letter-spacing-0021 lrv-u-font-size-18@tablet lrv-u-font-size-16 u-line-height-125 u-line-height-normal@mobile-max a-truncate-ellipsis u-max-width-330 u-max-width-230@tablet-only\"})"
   ]
  },
  {
   "cell_type": "code",
   "execution_count": 114,
   "id": "2b1856c7-1440-445e-a702-ac90ff43e17f",
   "metadata": {},
   "outputs": [],
   "source": [
    "for song in songs_top99:\n",
    "    songs_top100.append(song.get_text(strip = True))"
   ]
  },
  {
   "cell_type": "code",
   "execution_count": 115,
   "id": "b35f01d5-4e02-48b5-92ca-8491e7d8d382",
   "metadata": {},
   "outputs": [
    {
     "name": "stdout",
     "output_type": "stream",
     "text": [
      "total_length: 100\n",
      "top 5 songs: ['Rich Men North Of Richmond', 'Fast Car', 'Last Night', 'Cruel Summer', 'Paint The Town Red']\n"
     ]
    }
   ],
   "source": [
    "print(\"total_length:\", len(songs_top100))# top 100 is ready\n",
    "print(\"top 5 songs:\",songs_top100[:5])"
   ]
  },
  {
   "cell_type": "code",
   "execution_count": 121,
   "id": "de7ce8bc-7cbc-4ddf-94d7-a1d650401c21",
   "metadata": {},
   "outputs": [
    {
     "data": {
      "text/html": [
       "<div>\n",
       "<style scoped>\n",
       "    .dataframe tbody tr th:only-of-type {\n",
       "        vertical-align: middle;\n",
       "    }\n",
       "\n",
       "    .dataframe tbody tr th {\n",
       "        vertical-align: top;\n",
       "    }\n",
       "\n",
       "    .dataframe thead th {\n",
       "        text-align: right;\n",
       "    }\n",
       "</style>\n",
       "<table border=\"1\" class=\"dataframe\">\n",
       "  <thead>\n",
       "    <tr style=\"text-align: right;\">\n",
       "      <th></th>\n",
       "      <th>artist name</th>\n",
       "      <th>song name</th>\n",
       "    </tr>\n",
       "  </thead>\n",
       "  <tbody>\n",
       "    <tr>\n",
       "      <th>0</th>\n",
       "      <td>Oliver Anthony Music</td>\n",
       "      <td>Rich Men North Of Richmond</td>\n",
       "    </tr>\n",
       "    <tr>\n",
       "      <th>1</th>\n",
       "      <td>Luke Combs</td>\n",
       "      <td>Fast Car</td>\n",
       "    </tr>\n",
       "    <tr>\n",
       "      <th>2</th>\n",
       "      <td>Morgan Wallen</td>\n",
       "      <td>Last Night</td>\n",
       "    </tr>\n",
       "    <tr>\n",
       "      <th>3</th>\n",
       "      <td>Taylor Swift</td>\n",
       "      <td>Cruel Summer</td>\n",
       "    </tr>\n",
       "    <tr>\n",
       "      <th>4</th>\n",
       "      <td>Doja Cat</td>\n",
       "      <td>Paint The Town Red</td>\n",
       "    </tr>\n",
       "    <tr>\n",
       "      <th>...</th>\n",
       "      <td>...</td>\n",
       "      <td>...</td>\n",
       "    </tr>\n",
       "    <tr>\n",
       "      <th>95</th>\n",
       "      <td>Travis Scott Featuring Rob49 &amp; 21 Savage</td>\n",
       "      <td>Topia Twins</td>\n",
       "    </tr>\n",
       "    <tr>\n",
       "      <th>96</th>\n",
       "      <td>Grupo Frontera &amp; Grupo Firme</td>\n",
       "      <td>El Amor de Su Vida</td>\n",
       "    </tr>\n",
       "    <tr>\n",
       "      <th>97</th>\n",
       "      <td>Rod Wave</td>\n",
       "      <td>Fight The Feeling</td>\n",
       "    </tr>\n",
       "    <tr>\n",
       "      <th>98</th>\n",
       "      <td>Zach Bryan</td>\n",
       "      <td>Burn, Burn, Burn</td>\n",
       "    </tr>\n",
       "    <tr>\n",
       "      <th>99</th>\n",
       "      <td>Parmalee</td>\n",
       "      <td>Girl In Mine</td>\n",
       "    </tr>\n",
       "  </tbody>\n",
       "</table>\n",
       "<p>100 rows × 2 columns</p>\n",
       "</div>"
      ],
      "text/plain": [
       "                                 artist name                   song name\n",
       "0                       Oliver Anthony Music  Rich Men North Of Richmond\n",
       "1                                 Luke Combs                    Fast Car\n",
       "2                              Morgan Wallen                  Last Night\n",
       "3                               Taylor Swift                Cruel Summer\n",
       "4                                   Doja Cat          Paint The Town Red\n",
       "..                                       ...                         ...\n",
       "95  Travis Scott Featuring Rob49 & 21 Savage                 Topia Twins\n",
       "96              Grupo Frontera & Grupo Firme          El Amor de Su Vida\n",
       "97                                  Rod Wave           Fight The Feeling\n",
       "98                                Zach Bryan            Burn, Burn, Burn\n",
       "99                                  Parmalee                Girl In Mine\n",
       "\n",
       "[100 rows x 2 columns]"
      ]
     },
     "execution_count": 121,
     "metadata": {},
     "output_type": "execute_result"
    }
   ],
   "source": [
    "pd.DataFrame(zip(artists_top100, songs_top100), columns=[\"artist name\", \"song name\"])"
   ]
  },
  {
   "cell_type": "code",
   "execution_count": null,
   "id": "f01b9855-e1f5-454a-a054-a66f5ecf54eb",
   "metadata": {},
   "outputs": [],
   "source": []
  }
 ],
 "metadata": {
  "kernelspec": {
   "display_name": "Python 3 (ipykernel)",
   "language": "python",
   "name": "python3"
  },
  "language_info": {
   "codemirror_mode": {
    "name": "ipython",
    "version": 3
   },
   "file_extension": ".py",
   "mimetype": "text/x-python",
   "name": "python",
   "nbconvert_exporter": "python",
   "pygments_lexer": "ipython3",
   "version": "3.10.9"
  }
 },
 "nbformat": 4,
 "nbformat_minor": 5
}
